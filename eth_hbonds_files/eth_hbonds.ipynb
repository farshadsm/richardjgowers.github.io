{
 "metadata": {
  "name": "",
  "signature": "sha256:e6c966f0b62cc7238f203e59816708be3f81dc3d8ac2b6110c6a2b45b6d7b543"
 },
 "nbformat": 3,
 "nbformat_minor": 0,
 "worksheets": [
  {
   "cells": [
    {
     "cell_type": "heading",
     "level": 2,
     "metadata": {},
     "source": [
      "Calculating and detecting hydrogen bonds in Ethanol"
     ]
    },
    {
     "cell_type": "heading",
     "level": 3,
     "metadata": {},
     "source": [
      "Introduction"
     ]
    },
    {
     "cell_type": "markdown",
     "metadata": {},
     "source": [
      "This notebook explains how to analyse a molecular dynamics trajectory and count and visualise the hydrogen bonds present.\n",
      "\n",
      "Hydrogen bonds are massively important in problems such as self assembly, and are formed between three atoms\n",
      " - the acceptor, who forms a strong nonbonded interaction with...\n",
      " - the hydrogen, who is connected via covalent bond to...\n",
      " - the donor\n",
      "\n",
      "We will use a definition of a Hydrogen-Acceptor distances of less than 3.0 Angstroms and a Acceptor-Hydrogen-Donor angle of greater than 130 degrees.  We can therefore easily count and visualise the population of hydrogen bonds using simple geometry.\n",
      "\n",
      "To do this we will use Python, and in particular the MDAnalysis package.\n",
      "\n",
      "This will require version 0.10.0 or greater of MDAnalysis.\n",
      "\n",
      "To start with, we will create a Universe object.  This is created from the .gro file from our Gromacs simulation, but could be made from practically any format of molecular dynamics simulation.\n",
      "\n",
      "The \"guess_bonds\" keyword here tells MDAnalysis to guess the bonds between atoms when it loads the coordinates.  This is necessary as gro files carry no record of the connectivity between atoms."
     ]
    },
    {
     "cell_type": "code",
     "collapsed": false,
     "input": [
      "import MDAnalysis as mda\n",
      "\n",
      "u = mda.Universe('eth.gro', guess_bonds=True)"
     ],
     "language": "python",
     "metadata": {},
     "outputs": [],
     "prompt_number": 1
    },
    {
     "cell_type": "markdown",
     "metadata": {},
     "source": [
      "The Universe object acts as the nexus of analysis we will perform.\n",
      "From this we will access information about the atoms, bonds and coordinates from our trajectory."
     ]
    },
    {
     "cell_type": "code",
     "collapsed": false,
     "input": [
      "print u\n",
      "print u.atoms\n",
      "print u.bonds\n",
      "print u.trajectory"
     ],
     "language": "python",
     "metadata": {},
     "outputs": [
      {
       "output_type": "stream",
       "stream": "stdout",
       "text": [
        "<Universe with 13257 atoms and 11784 bonds>\n",
        "<AtomGroup with 13257 atoms>\n",
        "<TopologyGroup containing 11784 Bonds>\n",
        "< GROReader 'eth.gro' with 1 frames of 13257 atoms (0 fixed) >\n"
       ]
      }
     ],
     "prompt_number": 23
    },
    {
     "cell_type": "heading",
     "level": 3,
     "metadata": {},
     "source": [
      "Selecting atoms"
     ]
    },
    {
     "cell_type": "markdown",
     "metadata": {},
     "source": [
      "Firstly, we want to select some atoms, but I can't remember what I called them.  I can quickly check by looking at the set of the types and names of the atoms."
     ]
    },
    {
     "cell_type": "code",
     "collapsed": false,
     "input": [
      "print set(u.atoms.names())\n",
      "print set(u.atoms.types())"
     ],
     "language": "python",
     "metadata": {},
     "outputs": [
      {
       "output_type": "stream",
       "stream": "stdout",
       "text": [
        "set(['1H2', '3H1', '1H1', 'OH', '2H1', '2H2', 'HO', 'C2', 'C1'])\n",
        "set(['H', 'C', 'O'])\n"
       ]
      }
     ],
     "prompt_number": 20
    },
    {
     "cell_type": "markdown",
     "metadata": {},
     "source": [
      "I can then select atoms based on their name.  This creates an \"AtomGroup\".  This object holds an array of Atoms, and does many cool things....."
     ]
    },
    {
     "cell_type": "code",
     "collapsed": false,
     "input": [
      "H = u.selectAtoms('name HO')\n",
      "print H"
     ],
     "language": "python",
     "metadata": {},
     "outputs": [
      {
       "output_type": "stream",
       "stream": "stdout",
       "text": [
        "<AtomGroup with 1473 atoms>\n"
       ]
      }
     ],
     "prompt_number": 34
    },
    {
     "cell_type": "markdown",
     "metadata": {},
     "source": [
      "Among the many cool things AtomGroups can do, is provide the positions and velocities of the atoms.  These are given as a numpy array."
     ]
    },
    {
     "cell_type": "code",
     "collapsed": false,
     "input": [
      "print H.positions\n",
      "print\n",
      "print H.velocities"
     ],
     "language": "python",
     "metadata": {},
     "outputs": [
      {
       "output_type": "stream",
       "stream": "stdout",
       "text": [
        "[[ 50.79000092   9.5         45.38000107]\n",
        " [ 42.67000198  12.10999966   4.30999994]\n",
        " [  0.97999996   2.91000009  28.32999992]\n",
        " ..., \n",
        " [ 15.55999947  51.40999603  32.42000198]\n",
        " [  1.41000009  41.45999908  18.71999931]\n",
        " [  5.36000013  49.27000046  50.87999725]]\n",
        "\n",
        "[[ 13.48700047  12.28199959  -2.28699994]\n",
        " [ -7.4989996    8.77300072   4.42400026]\n",
        " [  1.82200003 -12.46500015  11.04599953]\n",
        " ..., \n",
        " [  3.36299992   1.08899999   4.11500025]\n",
        " [ 22.60099792  -4.78800011   8.12100029]\n",
        " [ -2.07599998  -0.824        1.95700002]]\n"
       ]
      }
     ],
     "prompt_number": 33
    },
    {
     "cell_type": "markdown",
     "metadata": {},
     "source": [
      "All OH atoms can be acceptors in hydrogen bonds, so we'll create an AtomGroup of those too"
     ]
    },
    {
     "cell_type": "code",
     "collapsed": false,
     "input": [
      "acc = u.selectAtoms('name OH')\n",
      "print acc"
     ],
     "language": "python",
     "metadata": {},
     "outputs": [
      {
       "output_type": "stream",
       "stream": "stdout",
       "text": [
        "<AtomGroup with 1473 atoms>\n"
       ]
      }
     ],
     "prompt_number": 29
    },
    {
     "cell_type": "markdown",
     "metadata": {},
     "source": [
      "We also want to have a group representing the donor for each hydrogen.\n",
      "For our system, this is identical to the selection of donors, but this is not true for all systems.  \n",
      "A more correct way of making this selection is to use a list comprehension, choosing the first (and only) atom which is bonded to each hydrogen."
     ]
    },
    {
     "cell_type": "code",
     "collapsed": false,
     "input": [
      "from MDAnalysis.core.AtomGroup import AtomGroup\n",
      "\n",
      "donors = AtomGroup([at.bonded_atoms[0] for at in H])\n",
      "\n",
      "print donors"
     ],
     "language": "python",
     "metadata": {},
     "outputs": [
      {
       "output_type": "stream",
       "stream": "stdout",
       "text": [
        "<AtomGroup with 1473 atoms>\n"
       ]
      }
     ],
     "prompt_number": 30
    },
    {
     "cell_type": "heading",
     "level": 3,
     "metadata": {},
     "source": [
      "Distance calculations"
     ]
    },
    {
     "cell_type": "markdown",
     "metadata": {},
     "source": [
      "We want to now calculate distances between hydrogens and acceptors to see who is close enough to form a hydrogen bonds.  We could manipulate the position arrays in numpy, however MDAnalysis has some built in functions which are fast and do many common analysis tasks.\n",
      "\n",
      "The first of these is distance_array.  This calculates all pairwise distances between 2 arrays of positions.  This therefore creates a (n x m) array from 2 arrays of length n and m.\n",
      "\n",
      "We will pass this the positions of all our hydrogens and acceptors."
     ]
    },
    {
     "cell_type": "code",
     "collapsed": false,
     "input": [
      "from MDAnalysis.core.distances import distance_array\n",
      "\n",
      "d = distance_array(H.positions, acc.positions)\n",
      "\n",
      "print type(d)\n",
      "print d.shape"
     ],
     "language": "python",
     "metadata": {},
     "outputs": [
      {
       "output_type": "stream",
       "stream": "stdout",
       "text": [
        "<type 'numpy.ndarray'>\n",
        "(1473, 1473)\n"
       ]
      }
     ],
     "prompt_number": 36
    },
    {
     "cell_type": "markdown",
     "metadata": {},
     "source": [
      "There is a slight problem however, in that naively calculating all pairwise distances neglects the fact that our system has periodic boundaries in all three dimensions.  This leads to some distances being larger than is technically possible in this geometry."
     ]
    },
    {
     "cell_type": "code",
     "collapsed": false,
     "input": [
      "print d.max()"
     ],
     "language": "python",
     "metadata": {},
     "outputs": [
      {
       "output_type": "stream",
       "stream": "stdout",
       "text": [
        "84.3116261931\n"
       ]
      }
     ],
     "prompt_number": 16
    },
    {
     "cell_type": "code",
     "collapsed": false,
     "input": [
      "print u.dimensions"
     ],
     "language": "python",
     "metadata": {},
     "outputs": [
      {
       "output_type": "stream",
       "stream": "stdout",
       "text": [
        "[ 52.23249817  52.23249817  52.23249817  90.          90.          90.        ]\n"
       ]
      }
     ],
     "prompt_number": 28
    },
    {
     "cell_type": "markdown",
     "metadata": {},
     "source": [
      "However we can easily take account of periodic boundaries by passing the dimensions of the system to the distance_array function!"
     ]
    },
    {
     "cell_type": "code",
     "collapsed": false,
     "input": [
      "d = distance_array(H.positions, acc.positions, box=u.dimensions)\n",
      "\n",
      "print d.max()"
     ],
     "language": "python",
     "metadata": {},
     "outputs": [
      {
       "output_type": "stream",
       "stream": "stdout",
       "text": [
        "44.8677328673\n"
       ]
      }
     ],
     "prompt_number": 132
    },
    {
     "cell_type": "markdown",
     "metadata": {},
     "source": [
      "We are then interested in any pairs that are less than 4 Angstroms apart.  This is easily done using numpy.where.  This then creates two arrays of indices of atoms.  One arrays refers to the Hydrogen indices, the other the indices of the Acceptors."
     ]
    },
    {
     "cell_type": "code",
     "collapsed": false,
     "input": [
      "import numpy as np\n",
      "\n",
      "Hidx, Aidx = np.where(d < 3.0)\n",
      "\n",
      "print Hidx\n",
      "print Aidx"
     ],
     "language": "python",
     "metadata": {},
     "outputs": [
      {
       "output_type": "stream",
       "stream": "stdout",
       "text": [
        "[   0    0    1 ..., 1471 1472 1472]\n",
        "[   0 1378    1 ..., 1471 1314 1472]\n"
       ]
      }
     ],
     "prompt_number": 133
    },
    {
     "cell_type": "markdown",
     "metadata": {},
     "source": [
      "There's one final complication, this has also calculated the distance between atoms that are bonded.  This is visible as the diagonal of the array is consistently less than 1 Angstrom."
     ]
    },
    {
     "cell_type": "code",
     "collapsed": false,
     "input": [
      "print d.diagonal()"
     ],
     "language": "python",
     "metadata": {},
     "outputs": [
      {
       "output_type": "stream",
       "stream": "stdout",
       "text": [
        "[ 0.94583419  0.94583402  0.94984229 ...,  0.94556636  0.94836715\n",
        "  0.94503941]\n"
       ]
      }
     ],
     "prompt_number": 134
    },
    {
     "cell_type": "markdown",
     "metadata": {},
     "source": [
      "We can filter out these results by setting them to a high value, and remaking our index arrays.  \n",
      "\n",
      "Another approach would be to apply a minimum distance critera of slightly larger than a bond length ie. (1.05 < d < 3.0)"
     ]
    },
    {
     "cell_type": "code",
     "collapsed": false,
     "input": [
      "d[np.diag_indices_from(d)] = 100.0\n",
      "\n",
      "Hidx, Aidx = np.where(d < 3.0)\n",
      "\n",
      "print Hidx\n",
      "print Aidx"
     ],
     "language": "python",
     "metadata": {},
     "outputs": [
      {
       "output_type": "stream",
       "stream": "stdout",
       "text": [
        "[   0    1    2 ..., 1470 1471 1472]\n",
        "[1378 1337  202 ...,   30 1219 1314]\n"
       ]
      }
     ],
     "prompt_number": 135
    },
    {
     "cell_type": "markdown",
     "metadata": {},
     "source": [
      "Now we've identified Hydrogen-Acceptor pairs with a small enough distance, we want to calculate the Donor-Hydrogen-Acceptor angle.  For this there is another handy function, calc_angles.  This calculates the angle  in radians between triplets of points.\n",
      "\n",
      "In the upcoming use, this will calculate the angle between donors.positions[Hidx][0], H.positions[Hidx][0] and acc.positions[Aidx][0]"
     ]
    },
    {
     "cell_type": "code",
     "collapsed": false,
     "input": [
      "from MDAnalysis.core.distances import calc_angles\n",
      "\n",
      "a = calc_angles(donors.positions[Hidx], H.positions[Hidx], acc.positions[Aidx], box=u.dimensions)\n",
      "\n",
      "print a\n",
      "print a.shape"
     ],
     "language": "python",
     "metadata": {},
     "outputs": [
      {
       "output_type": "stream",
       "stream": "stdout",
       "text": [
        "[ 3.00201938  2.77967765  2.63056268 ...,  2.82410089  2.78503334\n",
        "  2.94779518]\n",
        "(1526,)\n"
       ]
      }
     ],
     "prompt_number": 136
    },
    {
     "cell_type": "markdown",
     "metadata": {},
     "source": [
      "We now want to filter out the angles which are smaller than 130 degrees.  Again numpy.where can do this"
     ]
    },
    {
     "cell_type": "code",
     "collapsed": false,
     "input": [
      "a_crit = np.deg2rad(130.0)\n",
      "hbonds = np.where(a > a_crit)[0]\n",
      "print len(hbonds)\n",
      "print Hidx[hbonds]\n",
      "print Aidx[hbonds]"
     ],
     "language": "python",
     "metadata": {},
     "outputs": [
      {
       "output_type": "stream",
       "stream": "stdout",
       "text": [
        "1401\n",
        "[   0    1    2 ..., 1470 1471 1472]\n",
        "[1378 1337  202 ...,   30 1219 1314]\n"
       ]
      }
     ],
     "prompt_number": 137
    },
    {
     "cell_type": "markdown",
     "metadata": {},
     "source": [
      "So we've identified 1,401 hydrogen bonds in our system, which with 1,473 ethanol molecules seems reasonable.  We can also see the identity of who is bonded by slicing our index arrays by the positions where the angle criteria was met."
     ]
    },
    {
     "cell_type": "code",
     "collapsed": false,
     "input": [
      "print Hidx[hbonds]\n",
      "print Aidx[hbonds]"
     ],
     "language": "python",
     "metadata": {},
     "outputs": [
      {
       "output_type": "stream",
       "stream": "stdout",
       "text": [
        "[   0    1    2 ..., 1470 1471 1472]\n",
        "[1378 1337  202 ...,   30 1219 1314]\n"
       ]
      }
     ],
     "prompt_number": 138
    },
    {
     "cell_type": "heading",
     "level": 3,
     "metadata": {},
     "source": [
      "Plotting the bonds"
     ]
    },
    {
     "cell_type": "markdown",
     "metadata": {},
     "source": [
      "Finally, we can try and understand the hydrogen bonds better by plotting the distribution of angles and distances."
     ]
    },
    {
     "cell_type": "code",
     "collapsed": false,
     "input": [
      "a = np.rad2deg(a)\n",
      "\n",
      "histogram, xedges, yedges = np.histogram2d(d[Hidx, Aidx], a,\n",
      "                                           bins=40,\n",
      "                                           range=[[1.5, 3.0], [60.0, 180.0]])\n",
      "print histogram\n",
      "print histogram.max()"
     ],
     "language": "python",
     "metadata": {},
     "outputs": [
      {
       "output_type": "stream",
       "stream": "stdout",
       "text": [
        "[[ 0.  0.  0. ...,  0.  0.  0.]\n",
        " [ 0.  0.  0. ...,  0.  0.  0.]\n",
        " [ 0.  0.  0. ...,  0.  0.  0.]\n",
        " ..., \n",
        " [ 0.  0.  4. ...,  0.  0.  0.]\n",
        " [ 1.  3.  1. ...,  0.  0.  0.]\n",
        " [ 1.  0.  5. ...,  0.  0.  0.]]\n",
        "23.0\n"
       ]
      }
     ],
     "prompt_number": 139
    },
    {
     "cell_type": "code",
     "collapsed": false,
     "input": [
      "import matplotlib.pyplot as plt\n",
      "%matplotlib inline"
     ],
     "language": "python",
     "metadata": {},
     "outputs": [],
     "prompt_number": 140
    },
    {
     "cell_type": "code",
     "collapsed": false,
     "input": [
      "# define boundaries of image\n",
      "extent = [xedges[0], xedges[-1], yedges[0], yedges[-1]]\n",
      "# plot the histogram\n",
      "plt.cla()\n",
      "plt.imshow(histogram.T, extent=extent,\n",
      "           origin='lower', aspect='auto',\n",
      "           interpolation='gaussian')\n",
      "\n",
      "# plot the geometric definition of hbonds we used\n",
      "plt.plot([0.0, 3.0], [130.0, 130.0], color='w', ls=':', lw=3.0)\n",
      "\n",
      "plt.xlim((1.5, 3.0))\n",
      "plt.ylim((60.0, 180.0))\n",
      "\n",
      "plt.title('Contour map of hydrogen bonding')\n",
      "plt.xlabel('Distance (A)')\n",
      "plt.ylabel('Angle (degrees)')"
     ],
     "language": "python",
     "metadata": {},
     "outputs": [
      {
       "metadata": {},
       "output_type": "pyout",
       "prompt_number": 142,
       "text": [
        "<matplotlib.text.Text at 0xa43cafac>"
       ]
      },
      {
       "metadata": {},
       "output_type": "display_data",
       "png": "[encoded data removed]",
       "text": [
        "<matplotlib.figure.Figure at 0xaf56a5ec>"
       ]
      }
     ],
     "prompt_number": 142
    },
    {
     "cell_type": "code",
     "collapsed": false,
     "input": [],
     "language": "python",
     "metadata": {},
     "outputs": []
    }
   ],
   "metadata": {}
  }
 ]
}